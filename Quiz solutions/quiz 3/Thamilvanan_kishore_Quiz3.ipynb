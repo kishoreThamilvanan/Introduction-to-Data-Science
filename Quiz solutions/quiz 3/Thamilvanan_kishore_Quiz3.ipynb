{
 "cells": [
  {
   "cell_type": "markdown",
   "metadata": {},
   "source": [
    "# CSE351  Quiz 3\n",
    "# This quiz contains 2 short questions and 2 coding questions.\n",
    "\n",
    "## Time Limit : 40 Minutes\n",
    "\n",
    "## Total Marks : *100*\n",
    "\n",
    "## Bonus Marks : *10*\n",
    "\n",
    "Recommended Python Version : PY3"
   ]
  },
  {
   "cell_type": "markdown",
   "metadata": {},
   "source": [
    "## *Instructions* :\n",
    "\n",
    "### Marks Table\n",
    "| Question Number | Total Marks | Bonus |\n",
    "| -- | ----------- | ----- |\n",
    "| Q1 | 15 | 0 |\n",
    "| Q2 | 5  | 10|\n",
    "| Q3 | 80 | 0 |\n",
    "| -- | ----------- | ----- |\n",
    "| Total marks | 100 | 10 |\n",
    "\n",
    "\n",
    "\n",
    "- For Q1 and Q2, you have to explain in few sentences, no coding required.\n",
    "- To make one the problem interesting, there is a section included in Q2 which has bonus marks\n",
    "- For Q3, you have to code in python.\n",
    "- You can use appropriate python package for linear regression part.\n",
    "- There is a provision of partial marks for Q3. Please read the questions carefully."
   ]
  },
  {
   "cell_type": "markdown",
   "metadata": {},
   "source": [
    "----------------"
   ]
  },
  {
   "cell_type": "markdown",
   "metadata": {},
   "source": [
    "## **Q1** [15 marks]\n",
    "\n",
    "- ### Q1.1 [5 Marks] Can you solve the regression problem as a classification problem with some change? (Yes|No)\n",
    "\n",
    "- ### Q1.2 [10 Marks] If Yes, What changes do you recommend to convert the regression problem to a classification problem?\n",
    "\n",
    "Be precise in your explanation.\n",
    "\n",
    "HINT : Think about datatypes of dependent and independent variables."
   ]
  },
  {
   "cell_type": "markdown",
   "metadata": {},
   "source": [
    "Q1.1) yes\n",
    "\n",
    "Q1.2) Regression is close to classification. They differ in their result sets.\n",
    "        Classifier outputs are a set of catogorical data, while the regression models have a continuous output.\n",
    "        \n",
    "        Thereby, you dont have to change anything, as the inputs both are vectors and all the other parameters like function f, the input is still a vector, feature space, p features. The only difference in regression model is that y belongs to R (real number set)\n",
    "        \n",
    "        no change needed.\n",
    "        \n",
    "        "
   ]
  },
  {
   "cell_type": "markdown",
   "metadata": {},
   "source": [
    "----------------"
   ]
  },
  {
   "cell_type": "markdown",
   "metadata": {},
   "source": [
    "## **Q2 [5 Marks]**\n",
    "### Note : [15 marks can be awarded if explained correctly]\n",
    "\n",
    "**An orgazartion has hired new intern for their Data Science team. He has given one dataset which was based on a regression problem.**\n",
    "\n",
    "He reports that he has discovered ***something unusual***.\n",
    "\n",
    "1.  He has splitted the data into three parts : *Train, Test and validation* dataset. \n",
    "\n",
    "2. He trained one regression model on training dataset the using simple Scikit learn regression model (`sklearn.linear_model.LinearRegression`) which gives a perfect R2 score as 1.0.\n",
    "\n",
    "Note : Beware, the choice of sklearn package for regression model is not the problem here.\n",
    "\n",
    "**What are the possible mistakes in his approach?**\n",
    "\n",
    "Choose one of the option from below\n",
    "\n",
    "A) He has overfitted the model\n",
    "\n",
    "B) He has underfitted the model\n",
    "\n",
    "C) His data was wrong\n",
    "\n",
    "D) None of the Above\n",
    "\n",
    "Hint : Think aloud, **10 Marks** will be awarded (Total : 15) as extra for giving additional correct reasoning for the error."
   ]
  },
  {
   "cell_type": "markdown",
   "metadata": {},
   "source": [
    "Q2.  C. His data was wrong.\n",
    "\n",
    "Because the value of R^2 is 1 which is higly impractical. The value of R^2 always ranges from (0,1), but it seldom attains the values of 0 and 1. Thereby, there are chances that his data was wrong.\n"
   ]
  },
  {
   "cell_type": "markdown",
   "metadata": {},
   "source": [
    "-----------------------"
   ]
  },
  {
   "cell_type": "markdown",
   "metadata": {},
   "source": [
    "## Q3 [80 Marks]\n",
    "\n"
   ]
  },
  {
   "cell_type": "code",
   "execution_count": null,
   "metadata": {
    "collapsed": true
   },
   "outputs": [],
   "source": [
    "#### Please download correct dataset from BlackBoard"
   ]
  },
  {
   "cell_type": "code",
   "execution_count": null,
   "metadata": {
    "collapsed": true
   },
   "outputs": [],
   "source": [
    "csv_file_name = \"quiz_3_data.csv\""
   ]
  },
  {
   "cell_type": "code",
   "execution_count": null,
   "metadata": {},
   "outputs": [],
   "source": []
  },
  {
   "cell_type": "markdown",
   "metadata": {},
   "source": [
    "The following excercise is based on a Regression problem that was mentioned initially in Technical report, NASA RP-1218, July 1989.\n",
    "\n",
    "NASA data set, obtained from a series of aerodynamic and acoustic tests of two and three-dimensional airfoil sections conducted in an anechoic wind tunnel. The data set comprises different size NACA 0012 airfoils at various wind tunnel speeds and angles of attack. The span of the airfoil and the observer position were the same in all of the experiments.\n",
    "\n",
    "The following measurements have been made from the wind tunnel:\n",
    "\n",
    "- Frequency, in Hertzs.\n",
    "- Angle of attack, in degrees.\n",
    "- Chord length, in meters.\n",
    "- Free-stream velocity, in meters per second.\n",
    "- Suction side displacement thickness, in meters.\n",
    "\n",
    "The only output is:\n",
    "- Scaled sound pressure level, in decibels.\n",
    "\n",
    "As a newly hired data scientist at NASA, Your task is to fit a regression model on the data.\n",
    "\n",
    "Independent Variables : Frequency, Angle, Chord length, velocity, thickness,\n",
    "Dependent Variable : \"Sound Pressure\"\n",
    "\n",
    "Tasks:\n",
    "- ### Q3.1. Fit a regression model towards the target variable \"Sound Pressure\" and compare R2 Score and MSE Scores on test data.\n",
    "\n",
    "- ### Q3.2. Choose appropriate transformation (for example: Normalization, Scaling etc) to transform your data. Does transformation help in improving model's test accuracy?\n",
    "- ### Q3.3. Does this dataset contain multicollinearity. If yes, which column is causing the issue? \n",
    "\n",
    "All the above task are kept open by intention.\n",
    "\n",
    "## Marks Distribution [Important]:\n",
    "\n",
    "- **Q3.1 [40]** Test R2 Score > 0.5, 40 marks, Less than R2 Score(R2=0.5) test score will be awareded partial Marks\n",
    "- **Q3.2 [20]** A correct set of approch to increase R2 Score will be awared with 20 Marks. A minimum set of two such methods need to be implemented.\n",
    "\n",
    "For example, normalization of one column increases the accuracy or if we remove outliers, we get accuracy improved.\n",
    "\n",
    "- **Q3.3 [10]** multicollinearity test"
   ]
  },
  {
   "cell_type": "code",
   "execution_count": 49,
   "metadata": {},
   "outputs": [],
   "source": [
    "from sklearn.metrics import mean_squared_error\n",
    "from sklearn.metrics import r2_score\n",
    "from sklearn import datasets\n",
    "from sklearn.model_selection import cross_val_predict\n",
    "from sklearn import linear_model\n",
    "import matplotlib.pyplot as plt\n",
    "from sklearn.model_selection import train_test_split\n",
    "from sklearn.linear_model import LinearRegression\n",
    "\n",
    "\n",
    "\n",
    "import pandas as pd\n",
    "import numpy as np"
   ]
  },
  {
   "cell_type": "code",
   "execution_count": 50,
   "metadata": {},
   "outputs": [],
   "source": [
    "filename = 'quiz_3_data.csv'\n",
    "dataset = pd.read_csv(filename)"
   ]
  },
  {
   "cell_type": "code",
   "execution_count": 51,
   "metadata": {},
   "outputs": [],
   "source": [
    "X = dataset.iloc[:, :-1]\n",
    "y = dataset.iloc[:, 5] #target variable"
   ]
  },
  {
   "cell_type": "code",
   "execution_count": 52,
   "metadata": {},
   "outputs": [],
   "source": [
    "# Splitting the dataset into the Training set and Test set\n",
    "X_train, X_test, y_train, y_test = train_test_split(X, y, random_state = 0)"
   ]
  },
  {
   "cell_type": "code",
   "execution_count": 53,
   "metadata": {},
   "outputs": [
    {
     "data": {
      "text/plain": [
       "LinearRegression(copy_X=True, fit_intercept=True, n_jobs=None,\n",
       "         normalize=False)"
      ]
     },
     "execution_count": 53,
     "metadata": {},
     "output_type": "execute_result"
    }
   ],
   "source": [
    "lr =  LinearRegression()\n",
    "lr.fit(X_train, y_train)"
   ]
  },
  {
   "cell_type": "code",
   "execution_count": 60,
   "metadata": {},
   "outputs": [],
   "source": [
    "y_pred = lr.predict(X_test)\n",
    "# print(y_pred)"
   ]
  },
  {
   "cell_type": "code",
   "execution_count": 65,
   "metadata": {},
   "outputs": [
    {
     "name": "stdout",
     "output_type": "stream",
     "text": [
      "23.071101100842387\n"
     ]
    }
   ],
   "source": [
    "from sklearn import metrics\n",
    "mse_val = metrics.mean_squared_error(y,lr.predict(x))\n",
    "print(mse_val) #the value of MSE is"
   ]
  },
  {
   "cell_type": "code",
   "execution_count": 57,
   "metadata": {},
   "outputs": [
    {
     "name": "stdout",
     "output_type": "stream",
     "text": [
      "0.5330694346281188\n"
     ]
    }
   ],
   "source": [
    "r2score = r2_score(y_test,y_pred)\n",
    "print(r2score)"
   ]
  },
  {
   "cell_type": "markdown",
   "metadata": {},
   "source": [
    "the r^2 value is above 0.5. "
   ]
  },
  {
   "cell_type": "markdown",
   "metadata": {},
   "source": [
    "b) The transformation that i will choose will be normalization. Yes, it will help me normalize the data and clean it. "
   ]
  },
  {
   "cell_type": "code",
   "execution_count": null,
   "metadata": {},
   "outputs": [],
   "source": []
  }
 ],
 "metadata": {
  "kernelspec": {
   "display_name": "Python 3",
   "language": "python",
   "name": "python3"
  },
  "language_info": {
   "codemirror_mode": {
    "name": "ipython",
    "version": 3
   },
   "file_extension": ".py",
   "mimetype": "text/x-python",
   "name": "python",
   "nbconvert_exporter": "python",
   "pygments_lexer": "ipython3",
   "version": "3.7.3"
  }
 },
 "nbformat": 4,
 "nbformat_minor": 2
}
