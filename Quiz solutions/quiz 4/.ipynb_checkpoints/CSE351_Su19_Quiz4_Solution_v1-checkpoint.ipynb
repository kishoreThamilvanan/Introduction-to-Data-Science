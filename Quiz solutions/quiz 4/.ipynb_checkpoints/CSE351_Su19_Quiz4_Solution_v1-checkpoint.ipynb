{
 "cells": [
  {
   "cell_type": "markdown",
   "metadata": {},
   "source": [
    "# CSE351 Quiz 4\n",
    "## Time 40 minutes\n",
    "\n",
    "### Complete the quiz in this jupyter file and submit .\n",
    "\n",
    "\n",
    "\n",
    "You are given 70,000 images (each image consists of 28*28 pixels) of hand-written digits from 0-9.\n",
    "The task is to design a classifier that can recognize these images. In other words, you input an image from this dataset and the output is a predicted number from 0 to 9.\n",
    "\n",
    "For this problem, we only focus on classification task between two digits: 3, and 8, meaning that you deal with a binary classification task. ** If you trian the classifier for all digits you won't ger any credit.**\n",
    "\n",
    "\n",
    "The dataset contains 60,000 images for training and 10,000 for test. \n",
    "Do the following:\n",
    "1. Extract all images contaning digits 3 and 8 both in training and test data set.\n",
    "2.\tPlot an image of the digit 3  and an image of digit 8 from the training data. It could be any image of digit 3 or 8.\n",
    "3.\tTrain a feedforward neural network with the following architecture: \n",
    "    - Three layers\n",
    "    -\t256 hidden units\n",
    "    -\tfeedforward\n",
    "    -   number of epoch = 10\n",
    "4.\tPrint out the accuracy of your model for each epoch both for the test and train sets\n",
    "5.\tReport the classification results using a confusion matrix\n",
    "\n"
   ]
  },
  {
   "cell_type": "code",
   "execution_count": 1,
   "metadata": {},
   "outputs": [
    {
     "name": "stdout",
     "output_type": "stream",
     "text": [
      "('the array is = ', (60000, 28, 28))\n"
     ]
    }
   ],
   "source": [
    "# Here are othe required libraries. You are welconme to add more if you need\n",
    "import numpy as np\n",
    "import pandas as pd\n",
    "import sklearn \n",
    "from sklearn import datasets\n",
    "import scipy\n",
    "from sklearn.model_selection import train_test_split\n",
    "import matplotlib.pyplot as plt\n",
    "import itertools\n",
    "import tensorflow as tf\n",
    "from sklearn.metrics import confusion_matrix\n",
    "\n",
    "\n",
    "# This function loads the images and their labels.  The loading time should be around 4 seconds.\n",
    "(x_train, y_train), (x_test, y_test) = tf.keras.datasets.mnist.load_data()\n",
    "\n",
    "\n",
    "print(\"the array is = \",x_train.shape)\n",
    "# this would print out : the array is =  (60000, 28, 28) meaning you have 60,000 images and each image is 28 by 28 images.\n"
   ]
  },
  {
   "cell_type": "markdown",
   "metadata": {},
   "source": [
    "Note :\n",
    "1. The training dataset contains all the training images in the array format as X(`train_x`) and all the labels are there in `train_y`"
   ]
  },
  {
   "cell_type": "code",
   "execution_count": 2,
   "metadata": {},
   "outputs": [
    {
     "name": "stdout",
     "output_type": "stream",
     "text": [
      "Image showing Digit : 2 is present in x_train[5]\n",
      "Image showing Digit : 0 is present in x_train[1]\n"
     ]
    }
   ],
   "source": [
    "# Lets explore what is there in train_y\n",
    "print(\"Image showing Digit : {} is present in x_train[{}]\".format(y_train[5],5))\n",
    "print(\"Image showing Digit : {} is present in x_train[{}]\".format(y_train[1],1))"
   ]
  },
  {
   "cell_type": "code",
   "execution_count": 3,
   "metadata": {},
   "outputs": [
    {
     "data": {
      "text/plain": [
       "<matplotlib.image.AxesImage at 0x13840b990>"
      ]
     },
     "execution_count": 3,
     "metadata": {},
     "output_type": "execute_result"
    },
    {
     "data": {
      "image/png": "[encoded data removed]",
      "text/plain": [
       "<Figure size 432x288 with 1 Axes>"
      ]
     },
     "metadata": {
      "needs_background": "light"
     },
     "output_type": "display_data"
    }
   ],
   "source": [
    "plt.imshow(x_train[5].reshape(28, 28))"
   ]
  },
  {
   "cell_type": "code",
   "execution_count": 4,
   "metadata": {},
   "outputs": [
    {
     "data": {
      "text/plain": [
       "<matplotlib.image.AxesImage at 0x10c74b450>"
      ]
     },
     "execution_count": 4,
     "metadata": {},
     "output_type": "execute_result"
    },
    {
     "data": {
      "image/png": "[encoded data removed]",
      "text/plain": [
       "<Figure size 432x288 with 1 Axes>"
      ]
     },
     "metadata": {
      "needs_background": "light"
     },
     "output_type": "display_data"
    }
   ],
   "source": [
    "plt.imshow(x_train[1].reshape(28, 28))"
   ]
  },
  {
   "cell_type": "code",
   "execution_count": 5,
   "metadata": {},
   "outputs": [],
   "source": [
    "# TA Comments\n",
    "# I am posting the solution with the use of Keras framework here\n",
    "# I will post version from lecture slide 14 later."
   ]
  },
  {
   "cell_type": "code",
   "execution_count": 6,
   "metadata": {},
   "outputs": [
    {
     "name": "stdout",
     "output_type": "stream",
     "text": [
      "(60000, 784)\n",
      "(10000, 784)\n"
     ]
    }
   ],
   "source": [
    "x_train = x_train.reshape((len(x_train), np.prod(x_train.shape[1:])))\n",
    "x_test = x_test.reshape((len(x_test), np.prod(x_test.shape[1:])))\n",
    "print x_train.shape\n",
    "print x_test.shape"
   ]
  },
  {
   "cell_type": "code",
   "execution_count": 7,
   "metadata": {},
   "outputs": [],
   "source": [
    "#Q1.1 Extract all images contaning digits 3 and 8 both in training \n",
    "#     and test data set."
   ]
  },
  {
   "cell_type": "code",
   "execution_count": 8,
   "metadata": {},
   "outputs": [
    {
     "data": {
      "text/plain": [
       "(1010, 784)"
      ]
     },
     "execution_count": 8,
     "metadata": {},
     "output_type": "execute_result"
    }
   ],
   "source": [
    "x_test[y_test==3.0].shape"
   ]
  },
  {
   "cell_type": "code",
   "execution_count": 9,
   "metadata": {},
   "outputs": [],
   "source": [
    "only_digit_3_train_x = x_train[y_train==3.0]\n",
    "only_digit_3_train_y = y_train[y_train==3.0]\n",
    "only_digit_3_test_x = x_test[y_test==3.0]\n",
    "only_digit_3_test_y = y_test[y_test==3.0]"
   ]
  },
  {
   "cell_type": "code",
   "execution_count": 10,
   "metadata": {},
   "outputs": [],
   "source": [
    "only_digit_8_train_x = x_train[y_train==8.0]\n",
    "only_digit_8_train_y = y_train[y_train==8.0]\n",
    "only_digit_8_test_x = x_test[y_test==8.0]\n",
    "only_digit_8_test_y = y_test[y_test==8.0]"
   ]
  },
  {
   "cell_type": "code",
   "execution_count": 11,
   "metadata": {},
   "outputs": [
    {
     "data": {
      "text/plain": [
       "((6131, 784), (1010, 784))"
      ]
     },
     "execution_count": 11,
     "metadata": {},
     "output_type": "execute_result"
    }
   ],
   "source": [
    "only_digit_3_train_x.shape,only_digit_3_test_x.shape"
   ]
  },
  {
   "cell_type": "code",
   "execution_count": 12,
   "metadata": {},
   "outputs": [
    {
     "data": {
      "text/plain": [
       "((5851, 784), (974, 784))"
      ]
     },
     "execution_count": 12,
     "metadata": {},
     "output_type": "execute_result"
    }
   ],
   "source": [
    "only_digit_8_train_x.shape,only_digit_8_test_x.shape"
   ]
  },
  {
   "cell_type": "code",
   "execution_count": 13,
   "metadata": {},
   "outputs": [
    {
     "data": {
      "text/plain": [
       "11982"
      ]
     },
     "execution_count": 13,
     "metadata": {},
     "output_type": "execute_result"
    }
   ],
   "source": [
    "6131+5851"
   ]
  },
  {
   "cell_type": "code",
   "execution_count": 14,
   "metadata": {},
   "outputs": [
    {
     "data": {
      "text/plain": [
       "1984"
      ]
     },
     "execution_count": 14,
     "metadata": {},
     "output_type": "execute_result"
    }
   ],
   "source": [
    "1010+974"
   ]
  },
  {
   "cell_type": "code",
   "execution_count": 15,
   "metadata": {},
   "outputs": [],
   "source": [
    "assert only_digit_8_train_x.shape[0]==5851\n",
    "assert only_digit_8_test_x.shape[0]==974"
   ]
  },
  {
   "cell_type": "code",
   "execution_count": 16,
   "metadata": {},
   "outputs": [],
   "source": [
    "assert only_digit_3_train_x.shape[0]==6131\n",
    "assert only_digit_3_test_x.shape[0]==1010"
   ]
  },
  {
   "cell_type": "code",
   "execution_count": 17,
   "metadata": {},
   "outputs": [],
   "source": [
    "#Q1.2 Plot an image of the digit 3 and an image of digit 8 from the training data. \n",
    "# It could be any image of digit 3 or 8.."
   ]
  },
  {
   "cell_type": "code",
   "execution_count": 18,
   "metadata": {},
   "outputs": [
    {
     "data": {
      "text/plain": [
       "<matplotlib.image.AxesImage at 0x10caa1f90>"
      ]
     },
     "execution_count": 18,
     "metadata": {},
     "output_type": "execute_result"
    },
    {
     "data": {
      "image/png": "[encoded data removed]",
      "text/plain": [
       "<Figure size 432x288 with 1 Axes>"
      ]
     },
     "metadata": {
      "needs_background": "light"
     },
     "output_type": "display_data"
    }
   ],
   "source": [
    "# ANY RANDOM INDEX --> 33\n",
    "plt.imshow(only_digit_3_train_x[33].reshape(28, 28))"
   ]
  },
  {
   "cell_type": "code",
   "execution_count": 19,
   "metadata": {},
   "outputs": [
    {
     "data": {
      "text/plain": [
       "<matplotlib.image.AxesImage at 0x10cb58510>"
      ]
     },
     "execution_count": 19,
     "metadata": {},
     "output_type": "execute_result"
    },
    {
     "data": {
      "image/png": "[encoded data removed]",
      "text/plain": [
       "<Figure size 432x288 with 1 Axes>"
      ]
     },
     "metadata": {
      "needs_background": "light"
     },
     "output_type": "display_data"
    }
   ],
   "source": [
    "# ANY RANDOM INDEX --> 14\n",
    "plt.imshow(only_digit_8_train_x[14].reshape(28, 28))"
   ]
  },
  {
   "cell_type": "markdown",
   "metadata": {},
   "source": [
    "## Q1.3. Important\n",
    "For this problem, we only focus on classification task between two digits: 3, and 8, meaning that you deal with a binary classification task. \n",
    "**If you train the classifier for all digits you won't ger any credit.**"
   ]
  },
  {
   "cell_type": "markdown",
   "metadata": {},
   "source": [
    "Q1 [Continued]\n",
    "3.\tTrain a feedforward neural network with the following architecture: \n",
    "    - Three layers\n",
    "    -\t256 hidden units\n",
    "    -\tfeedforward\n",
    "    -   number of epoch = 10\n",
    "4.\tPrint out the accuracy of your model for each epoch both for the test and train sets\n",
    "5.\tReport the classification results using a confusion matrix"
   ]
  },
  {
   "cell_type": "code",
   "execution_count": 20,
   "metadata": {},
   "outputs": [
    {
     "data": {
      "text/plain": [
       "11982"
      ]
     },
     "execution_count": 20,
     "metadata": {},
     "output_type": "execute_result"
    }
   ],
   "source": [
    "only_digit_3_train_x.shape[0]+only_digit_8_train_x.shape[0]"
   ]
  },
  {
   "cell_type": "code",
   "execution_count": 21,
   "metadata": {},
   "outputs": [
    {
     "data": {
      "text/plain": [
       "(11982, 784)"
      ]
     },
     "execution_count": 21,
     "metadata": {},
     "output_type": "execute_result"
    }
   ],
   "source": [
    "np.concatenate([only_digit_3_train_x,only_digit_8_train_x]).shape"
   ]
  },
  {
   "cell_type": "code",
   "execution_count": 22,
   "metadata": {},
   "outputs": [],
   "source": [
    "train_data_x = np.concatenate([only_digit_3_train_x,\n",
    "                               only_digit_8_train_x])"
   ]
  },
  {
   "cell_type": "code",
   "execution_count": 23,
   "metadata": {},
   "outputs": [],
   "source": [
    "train_data_y = np.concatenate([only_digit_3_train_y,\n",
    "                               only_digit_8_train_y])"
   ]
  },
  {
   "cell_type": "code",
   "execution_count": 24,
   "metadata": {},
   "outputs": [],
   "source": [
    "test_data_x = np.concatenate([only_digit_3_test_x,\n",
    "                              only_digit_8_test_x])"
   ]
  },
  {
   "cell_type": "code",
   "execution_count": 25,
   "metadata": {},
   "outputs": [],
   "source": [
    "test_data_y = np.concatenate([only_digit_3_test_y,\n",
    "                               only_digit_8_test_y])"
   ]
  },
  {
   "cell_type": "code",
   "execution_count": 26,
   "metadata": {},
   "outputs": [
    {
     "name": "stdout",
     "output_type": "stream",
     "text": [
      "('Train X Shape', (11982, 784))\n",
      "('Train Y Shape', (11982,))\n",
      "('Test X Shape', (1984, 784))\n",
      "('Test Y Shape', (1984,))\n"
     ]
    }
   ],
   "source": [
    "print(\"Train X Shape\",train_data_x.shape)\n",
    "print(\"Train Y Shape\",train_data_y.shape)\n",
    "print(\"Test X Shape\",test_data_x.shape)\n",
    "print(\"Test Y Shape\",test_data_y.shape)"
   ]
  },
  {
   "cell_type": "markdown",
   "metadata": {},
   "source": [
    "### Classification model"
   ]
  },
  {
   "cell_type": "markdown",
   "metadata": {},
   "source": [
    "#### Using keras framework"
   ]
  },
  {
   "cell_type": "code",
   "execution_count": 27,
   "metadata": {},
   "outputs": [
    {
     "name": "stderr",
     "output_type": "stream",
     "text": [
      "Using TensorFlow backend.\n"
     ]
    }
   ],
   "source": [
    "import keras\n",
    "from keras.models import Sequential\n",
    "from keras import regularizers\n",
    "from keras.layers import Dense, Activation"
   ]
  },
  {
   "cell_type": "code",
   "execution_count": 28,
   "metadata": {},
   "outputs": [],
   "source": [
    "import tensorflow as tf"
   ]
  },
  {
   "cell_type": "code",
   "execution_count": 29,
   "metadata": {},
   "outputs": [],
   "source": [
    "tf.reset_default_graph()"
   ]
  },
  {
   "cell_type": "code",
   "execution_count": 30,
   "metadata": {},
   "outputs": [],
   "source": [
    "train_data_x /= 255\n",
    "test_data_x /= 255"
   ]
  },
  {
   "cell_type": "code",
   "execution_count": 31,
   "metadata": {},
   "outputs": [],
   "source": [
    "from keras.utils import np_utils"
   ]
  },
  {
   "cell_type": "code",
   "execution_count": 32,
   "metadata": {},
   "outputs": [],
   "source": [
    "train_data_y = np_utils.to_categorical(train_data_y)\n",
    "test_data_y = np_utils.to_categorical(test_data_y)"
   ]
  },
  {
   "cell_type": "code",
   "execution_count": 33,
   "metadata": {},
   "outputs": [
    {
     "data": {
      "text/plain": [
       "((11982, 784), (1984, 784))"
      ]
     },
     "execution_count": 33,
     "metadata": {},
     "output_type": "execute_result"
    }
   ],
   "source": [
    "train_data_x.shape,test_data_x.shape"
   ]
  },
  {
   "cell_type": "code",
   "execution_count": 34,
   "metadata": {
    "scrolled": true
   },
   "outputs": [
    {
     "data": {
      "text/plain": [
       "((11982, 9), (1984, 9))"
      ]
     },
     "execution_count": 34,
     "metadata": {},
     "output_type": "execute_result"
    }
   ],
   "source": [
    "train_data_y.shape,test_data_y.shape"
   ]
  },
  {
   "cell_type": "code",
   "execution_count": 35,
   "metadata": {},
   "outputs": [
    {
     "name": "stderr",
     "output_type": "stream",
     "text": [
      "WARNING: Logging before flag parsing goes to stderr.\n",
      "W0701 02:29:01.523936 4700632512 deprecation_wrapper.py:119] From /Users/mrityunjaykumar/PY2/lib/python2.7/site-packages/keras/backend/tensorflow_backend.py:74: The name tf.get_default_graph is deprecated. Please use tf.compat.v1.get_default_graph instead.\n",
      "\n",
      "W0701 02:29:01.583220 4700632512 deprecation_wrapper.py:119] From /Users/mrityunjaykumar/PY2/lib/python2.7/site-packages/keras/backend/tensorflow_backend.py:517: The name tf.placeholder is deprecated. Please use tf.compat.v1.placeholder instead.\n",
      "\n",
      "W0701 02:29:01.592971 4700632512 deprecation_wrapper.py:119] From /Users/mrityunjaykumar/PY2/lib/python2.7/site-packages/keras/backend/tensorflow_backend.py:4138: The name tf.random_uniform is deprecated. Please use tf.random.uniform instead.\n",
      "\n"
     ]
    }
   ],
   "source": [
    "model = Sequential()\n",
    "model.add(Dense(100, input_shape=(784,)))\n",
    "model.add(Activation('relu'))\n",
    "model.add(Dense(256, activation='relu'))\n",
    "model.add(Dense(train_data_y.shape[1], activation='softmax'))"
   ]
  },
  {
   "cell_type": "code",
   "execution_count": null,
   "metadata": {},
   "outputs": [],
   "source": []
  },
  {
   "cell_type": "code",
   "execution_count": 36,
   "metadata": {},
   "outputs": [
    {
     "name": "stderr",
     "output_type": "stream",
     "text": [
      "W0701 02:29:01.748744 4700632512 deprecation_wrapper.py:119] From /Users/mrityunjaykumar/PY2/lib/python2.7/site-packages/keras/optimizers.py:790: The name tf.train.Optimizer is deprecated. Please use tf.compat.v1.train.Optimizer instead.\n",
      "\n",
      "W0701 02:29:01.814455 4700632512 deprecation_wrapper.py:119] From /Users/mrityunjaykumar/PY2/lib/python2.7/site-packages/keras/backend/tensorflow_backend.py:3376: The name tf.log is deprecated. Please use tf.math.log instead.\n",
      "\n",
      "W0701 02:29:01.822217 4700632512 deprecation.py:323] From /Users/mrityunjaykumar/PY2/lib/python2.7/site-packages/tensorflow/python/ops/nn_impl.py:180: where (from tensorflow.python.ops.array_ops) is deprecated and will be removed in a future version.\n",
      "Instructions for updating:\n",
      "Use tf.where in 2.0, which has the same broadcast rule as np.where\n"
     ]
    }
   ],
   "source": [
    "model.compile(optimizer='adam', \n",
    "                    loss='binary_crossentropy',\n",
    "             metrics=['accuracy'])"
   ]
  },
  {
   "cell_type": "code",
   "execution_count": 37,
   "metadata": {},
   "outputs": [],
   "source": [
    "from keras.callbacks import Callback\n",
    "class TestCallback(Callback):\n",
    "    def __init__(self, test_data):\n",
    "        self.test_data = test_data\n",
    "\n",
    "    def on_epoch_end(self, epoch, logs={}):\n",
    "        x, y = self.test_data\n",
    "        loss, acc = self.model.evaluate(x, y, verbose=0)\n",
    "        print(\"=-------=\")\n",
    "        print('\\nTesting loss: {}, acc: {}\\n'.format(loss, acc))\n",
    "        print(\"=-------=\")"
   ]
  },
  {
   "cell_type": "code",
   "execution_count": 38,
   "metadata": {},
   "outputs": [],
   "source": [
    "# Training step"
   ]
  },
  {
   "cell_type": "code",
   "execution_count": 39,
   "metadata": {},
   "outputs": [],
   "source": [
    "y_classes = [np.argmax(y, axis=None, out=None) for y in test_data_y]"
   ]
  },
  {
   "cell_type": "code",
   "execution_count": 40,
   "metadata": {},
   "outputs": [],
   "source": [
    "#y_classes"
   ]
  },
  {
   "cell_type": "code",
   "execution_count": 41,
   "metadata": {},
   "outputs": [
    {
     "name": "stderr",
     "output_type": "stream",
     "text": [
      "W0701 02:29:02.279877 4700632512 deprecation_wrapper.py:119] From /Users/mrityunjaykumar/PY2/lib/python2.7/site-packages/keras/backend/tensorflow_backend.py:986: The name tf.assign_add is deprecated. Please use tf.compat.v1.assign_add instead.\n",
      "\n"
     ]
    },
    {
     "name": "stdout",
     "output_type": "stream",
     "text": [
      "Epoch 1/10\n",
      "11982/11982 [==============================] - 2s 152us/step - loss: 0.1398 - acc: 0.9281\n",
      "=-------=\n",
      "\n",
      "Testing loss: 0.118169169152, acc: 0.936491921063\n",
      "\n",
      "=-------=\n",
      "Epoch 2/10\n",
      "11982/11982 [==============================] - 2s 127us/step - loss: 0.1142 - acc: 0.9388\n",
      "=-------=\n",
      "\n",
      "Testing loss: 0.116119819543, acc: 0.939964140615\n",
      "\n",
      "=-------=\n",
      "Epoch 3/10\n",
      "11982/11982 [==============================] - 2s 166us/step - loss: 0.1103 - acc: 0.9420\n",
      "=-------=\n",
      "\n",
      "Testing loss: 0.117148431979, acc: 0.938732062617\n",
      "\n",
      "=-------=\n",
      "Epoch 4/10\n",
      "11982/11982 [==============================] - 2s 141us/step - loss: 0.1081 - acc: 0.9427 1s - loss: 0\n",
      "=-------=\n",
      "\n",
      "Testing loss: 0.116047086374, acc: 0.938676063092\n",
      "\n",
      "=-------=\n",
      "Epoch 5/10\n",
      "11982/11982 [==============================] - 2s 151us/step - loss: 0.1063 - acc: 0.9435\n",
      "=-------=\n",
      "\n",
      "Testing loss: 0.116556107938, acc: 0.939404107871\n",
      "\n",
      "=-------=\n",
      "Epoch 6/10\n",
      "11982/11982 [==============================] - 2s 147us/step - loss: 0.1052 - acc: 0.9436\n",
      "=-------=\n",
      "\n",
      "Testing loss: 0.117036189644, acc: 0.940636182985\n",
      "\n",
      "=-------=\n",
      "Epoch 7/10\n",
      "11982/11982 [==============================] - 2s 143us/step - loss: 0.1038 - acc: 0.9451\n",
      "=-------=\n",
      "\n",
      "Testing loss: 0.120671007302, acc: 0.939236099682\n",
      "\n",
      "=-------=\n",
      "Epoch 8/10\n",
      "11982/11982 [==============================] - 2s 139us/step - loss: 0.1023 - acc: 0.9451 \n",
      "=-------=\n",
      "\n",
      "Testing loss: 0.12054326914, acc: 0.93985213099\n",
      "\n",
      "=-------=\n",
      "Epoch 9/10\n",
      "11982/11982 [==============================] - 2s 167us/step - loss: 0.1011 - acc: 0.9458\n",
      "=-------=\n",
      "\n",
      "Testing loss: 0.126470816292, acc: 0.937836000996\n",
      "\n",
      "=-------=\n",
      "Epoch 10/10\n",
      "11982/11982 [==============================] - 2s 149us/step - loss: 0.1001 - acc: 0.9464\n",
      "=-------=\n",
      "\n",
      "Testing loss: 0.122636331426, acc: 0.939404102102\n",
      "\n",
      "=-------=\n"
     ]
    },
    {
     "data": {
      "text/plain": [
       "<keras.callbacks.History at 0x139cc1ad0>"
      ]
     },
     "execution_count": 41,
     "metadata": {},
     "output_type": "execute_result"
    }
   ],
   "source": [
    "model.fit(train_data_x, train_data_y, \n",
    "          callbacks=[TestCallback((test_data_x, test_data_y))],\n",
    "         epochs=10, shuffle=True)"
   ]
  },
  {
   "cell_type": "markdown",
   "metadata": {},
   "source": [
    "#### Report the classification results using a confusion matrix"
   ]
  },
  {
   "cell_type": "code",
   "execution_count": 42,
   "metadata": {},
   "outputs": [
    {
     "data": {
      "text/plain": [
       "array([[2.3818317e-05, 2.2985789e-05, 1.9408953e-05, ..., 1.8835424e-05,\n",
       "        2.1528545e-05, 5.2566153e-01],\n",
       "       [1.5843275e-06, 1.7403155e-06, 1.3283305e-06, ..., 1.1881012e-06,\n",
       "        1.5057757e-06, 5.3227943e-01],\n",
       "       [1.8159836e-04, 1.7971262e-04, 1.5987820e-04, ..., 1.4721396e-04,\n",
       "        1.6415560e-04, 5.0433964e-01],\n",
       "       ...,\n",
       "       [1.1331223e-05, 9.7221573e-06, 8.8735096e-06, ..., 7.9101965e-06,\n",
       "        1.0900820e-05, 6.9226199e-01],\n",
       "       [3.8198434e-23, 5.2805335e-24, 1.5462557e-23, ..., 5.0594643e-24,\n",
       "        1.5012973e-23, 9.9999976e-01],\n",
       "       [0.0000000e+00, 0.0000000e+00, 0.0000000e+00, ..., 0.0000000e+00,\n",
       "        0.0000000e+00, 1.0000000e+00]], dtype=float32)"
      ]
     },
     "execution_count": 42,
     "metadata": {},
     "output_type": "execute_result"
    }
   ],
   "source": [
    "model.predict(test_data_x)"
   ]
  },
  {
   "cell_type": "code",
   "execution_count": 43,
   "metadata": {},
   "outputs": [
    {
     "data": {
      "text/plain": [
       "array([[0., 0., 0., ..., 0., 0., 0.],\n",
       "       [0., 0., 0., ..., 0., 0., 0.],\n",
       "       [0., 0., 0., ..., 0., 0., 0.],\n",
       "       ...,\n",
       "       [0., 0., 0., ..., 0., 0., 1.],\n",
       "       [0., 0., 0., ..., 0., 0., 1.],\n",
       "       [0., 0., 0., ..., 0., 0., 1.]], dtype=float32)"
      ]
     },
     "execution_count": 43,
     "metadata": {},
     "output_type": "execute_result"
    }
   ],
   "source": [
    "test_data_y"
   ]
  },
  {
   "cell_type": "code",
   "execution_count": 44,
   "metadata": {},
   "outputs": [],
   "source": [
    "def reverse_categorical(input_data):\n",
    "    return [np.argmax(y, axis=None, out=None) for y in input_data]"
   ]
  },
  {
   "cell_type": "code",
   "execution_count": 45,
   "metadata": {},
   "outputs": [
    {
     "data": {
      "text/plain": [
       "array([[713, 297],\n",
       "       [244, 730]])"
      ]
     },
     "execution_count": 45,
     "metadata": {},
     "output_type": "execute_result"
    }
   ],
   "source": [
    "from sklearn.metrics import confusion_matrix\n",
    "test_data_x, test_data_y\n",
    "confusion_matrix(reverse_categorical(test_data_y), \n",
    "                 reverse_categorical(model.predict(test_data_x)))"
   ]
  },
  {
   "cell_type": "markdown",
   "metadata": {
    "collapsed": true
   },
   "source": [
    "# Hint: use the code for the training  and the test of  feedforward neural networks in lecture slides 14. You need to chage  that code for these dataset.\n",
    "# Ignore warning if you get any\n",
    "# When we run your code it should print the accuracy for each epoch and one confusion matrix for the  final  epoch.\n"
   ]
  },
  {
   "cell_type": "code",
   "execution_count": 48,
   "metadata": {},
   "outputs": [
    {
     "data": {
      "text/plain": [
       "'ConfusionMatrix\\narray([[713, 297],\\n       [244, 730]])\\n'"
      ]
     },
     "execution_count": 48,
     "metadata": {},
     "output_type": "execute_result"
    }
   ],
   "source": [
    "\"\"\"ConfusionMatrix\n",
    "array([[713, 297],\n",
    "       [244, 730]])\n",
    "\"\"\""
   ]
  },
  {
   "cell_type": "code",
   "execution_count": 49,
   "metadata": {},
   "outputs": [],
   "source": [
    "#End"
   ]
  }
 ],
 "metadata": {
  "kernelspec": {
   "display_name": "Python 3",
   "language": "python",
   "name": "python3"
  },
  "language_info": {
   "codemirror_mode": {
    "name": "ipython",
    "version": 3
   },
   "file_extension": ".py",
   "mimetype": "text/x-python",
   "name": "python",
   "nbconvert_exporter": "python",
   "pygments_lexer": "ipython3",
   "version": "3.7.3"
  }
 },
 "nbformat": 4,
 "nbformat_minor": 2
}
