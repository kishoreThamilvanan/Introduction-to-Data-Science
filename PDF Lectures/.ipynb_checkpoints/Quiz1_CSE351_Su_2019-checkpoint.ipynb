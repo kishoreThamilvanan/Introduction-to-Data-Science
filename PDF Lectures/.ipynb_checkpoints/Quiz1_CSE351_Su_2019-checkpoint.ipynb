{
 "cells": [
  {
   "cell_type": "markdown",
   "metadata": {},
   "source": [
    " - CSE351, Quiz 1 , Summer 2019\n",
    " - Write the solution in this jupyter notebook file and upload it on Blackboard in the Assignment section. You don't need to create a new Jupyter file. only one jupyter notebook file is accepted. No other formats such as PDF, .py, MS, etc are accepted.\n",
    " - Vectors $x$ and $y$ and matrices $S$ and $A$ are given below. Answer the following questions:\n",
    " \n",
    " $x_{3\\times 1} = [1\\,\\, 2 \\,\\,3]^T$ \n",
    " \n",
    " $y_{3\\times 1}=[ 4 \\,\\,5 \\,\\,6]^T$.\n",
    "\n",
    "$S_{3\\times 3}=\\begin{bmatrix}\n",
    "    2& 1&4  \\\\\n",
    "    5& -1&3  \\\\\n",
    "    1& 7&2  \\\\\n",
    "\\end{bmatrix}$\n",
    "\n",
    "$A_{3\\times 3}=\\begin{bmatrix}\n",
    "    0.4& .1&0.14  \\\\\n",
    "    12.4& -0.01&0.3  \\\\\n",
    "    1.6& 7.5& 0.2  \\\\\n",
    "\\end{bmatrix}$\n",
    "\n"
   ]
  },
  {
   "cell_type": "code",
   "execution_count": null,
   "metadata": {
    "collapsed": true
   },
   "outputs": [],
   "source": []
  },
  {
   "cell_type": "markdown",
   "metadata": {
    "collapsed": true
   },
   "source": [
    "1- Using Python NumPy  or other libraries compute $a$:\n",
    "\n",
    "$ a = y^T  \\times  \\text{diag}(S^{-1})\\times I \\times x $\n",
    "\n",
    "where diag denotes a $3\\times 3$ matrix obtained by taking the diagonal elements of  $S^{-1}$ and $I_{3\\times 3}$ is an identity matrix. Also in this expression $\\times$ denotes the matrix multiplication operation."
   ]
  },
  {
   "cell_type": "code",
   "execution_count": null,
   "metadata": {
    "collapsed": true
   },
   "outputs": [],
   "source": [
    "\n",
    "a \n",
    "\n",
    "\n",
    "\n",
    "\n",
    "\n",
    "\n",
    "\n"
   ]
  },
  {
   "cell_type": "markdown",
   "metadata": {},
   "source": [
    "2- Are the columns of $A$ independent? Verify your answer. You can use any Python libraries you like:"
   ]
  },
  {
   "cell_type": "code",
   "execution_count": null,
   "metadata": {
    "collapsed": true
   },
   "outputs": [],
   "source": [
    "\n",
    "\n",
    "\n",
    "\n",
    "\n",
    "\n",
    "\n"
   ]
  }
 ],
 "metadata": {
  "kernelspec": {
   "display_name": "Python 3",
   "language": "python",
   "name": "python3"
  },
  "language_info": {
   "codemirror_mode": {
    "name": "ipython",
    "version": 3
   },
   "file_extension": ".py",
   "mimetype": "text/x-python",
   "name": "python",
   "nbconvert_exporter": "python",
   "pygments_lexer": "ipython3",
   "version": "3.7.3"
  }
 },
 "nbformat": 4,
 "nbformat_minor": 2
}
